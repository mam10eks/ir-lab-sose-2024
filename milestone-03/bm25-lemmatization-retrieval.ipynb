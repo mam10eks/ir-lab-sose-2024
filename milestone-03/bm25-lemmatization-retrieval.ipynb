{
 "cells": [
  {
   "cell_type": "markdown",
   "metadata": {},
   "source": [
    "# IR Lab SoSe 2024: Lemmatization Baseline\n",
    "\n",
    "This jupyter notebook serves as baseline example for using BM25 with lemmatization instead of the Porter Stemmer."
   ]
  },
  {
   "cell_type": "markdown",
   "metadata": {},
   "source": [
    "### Step 1: Import Libraries\n",
    "\n",
    "We will use [tira](https://www.tira.io/), an information retrieval shared task platform, for loading the (pre-built) retrieval index and [ir_dataset](https://ir-datasets.com/) to subsequently build two BM25 retrieval systems with [PyTerrier](https://github.com/terrier-org/pyterrier), one that uses the default PorterStemmer, and one that uses the Stanford Lemmatizer."
   ]
  },
  {
   "cell_type": "code",
   "execution_count": 2,
   "metadata": {},
   "outputs": [],
   "source": [
    "# Imports\n",
    "from tira.third_party_integrations import ensure_pyterrier_is_loaded\n",
    "from tira.rest_api_client import Client\n",
    "import pyterrier as pt\n",
    "from pathlib import Path\n",
    "import os\n",
    "\n",
    "# do not truncate text in the dataframe\n",
    "import pandas as pd\n",
    "pd.set_option('display.max_colwidth', None)"
   ]
  },
  {
   "cell_type": "code",
   "execution_count": 3,
   "metadata": {},
   "outputs": [],
   "source": [
    "# Create a REST client to the TIRA platform for retrieving the pre-indexed data.\n",
    "tira = Client()\n",
    "stanford_tokenizer_jar = tira.load_resource(\"custom-terrier-token-processing-1.0-SNAPSHOT-jar-with-dependencies.jar\")"
   ]
  },
  {
   "cell_type": "code",
   "execution_count": 4,
   "metadata": {},
   "outputs": [],
   "source": [
    "# Ensure that the stanford tokenizer is available on the pyterrier classpath\n",
    "\n",
    "pyterrier_resource_dir = Path.home() / '.pyterrier'\n",
    "os.makedirs(pyterrier_resource_dir, exist_ok=True)\n",
    "try:\n",
    "    os.remove(pyterrier_resource_dir / 'custom-terrier-token-processing-0.0.1.jar')\n",
    "except:\n",
    "    pass\n",
    "\n",
    "os.symlink(stanford_tokenizer_jar, pyterrier_resource_dir / 'custom-terrier-token-processing-0.0.1.jar')"
   ]
  },
  {
   "cell_type": "code",
   "execution_count": 5,
   "metadata": {},
   "outputs": [
    {
     "name": "stderr",
     "output_type": "stream",
     "text": [
      "PyTerrier 0.10.0 has loaded Terrier 5.8 (built by craigm on 2023-11-01 18:05) and terrier-helper 0.0.8\n",
      "\n",
      "No etc/terrier.properties, using terrier.default.properties for bootstrap configuration.\n"
     ]
    }
   ],
   "source": [
    "ensure_pyterrier_is_loaded(boot_packages=(\"com.github.terrierteam:terrier-prf:-SNAPSHOT\", \"mam10eks:custom-terrier-token-processing:0.0.1\"))\n",
    "from jnius import autoclass"
   ]
  },
  {
   "cell_type": "markdown",
   "metadata": {},
   "source": [
    "### Step 2: Playing a bit around: Stemming vs Lemmatization"
   ]
  },
  {
   "cell_type": "code",
   "execution_count": 6,
   "metadata": {},
   "outputs": [],
   "source": [
    "def lemmatize(t):\n",
    "    lemmatizer = autoclass(\"org.terrier.terms.StanfordLemmatizer\")()\n",
    "    return lemmatizer.stem(t)\n",
    "\n",
    "def stem(t):\n",
    "    stemmer = autoclass(\"org.terrier.terms.PorterStemmer\")()\n",
    "    return stemmer.stem(t)\n",
    "\n",
    "def analyze(t):\n",
    "    print(f'{t} => lemma: \"{lemmatize(t)}\"; porter: \"{stem(t)}\"')\n"
   ]
  },
  {
   "cell_type": "markdown",
   "metadata": {},
   "source": [
    "In the following, we do some brainstorming to obtain candidate information needs."
   ]
  },
  {
   "cell_type": "code",
   "execution_count": 7,
   "metadata": {},
   "outputs": [
    {
     "name": "stdout",
     "output_type": "stream",
     "text": [
      "corpus => lemma: \"corpus\"; porter: \"corpu\"\n",
      "corpora => lemma: \"corpus\"; porter: \"corpora\"\n"
     ]
    }
   ],
   "source": [
    "analyze('corpus')\n",
    "analyze('corpora')"
   ]
  },
  {
   "cell_type": "markdown",
   "metadata": {},
   "source": [
    "Hypothesis: The lemmatizer should receive a higher recall for queries like `argument corpora`, `math corpora`, `math corpus`, etc., as the lemmatizer maps both terms corpora and corpus to corpus."
   ]
  },
  {
   "cell_type": "code",
   "execution_count": 8,
   "metadata": {},
   "outputs": [
    {
     "name": "stdout",
     "output_type": "stream",
     "text": [
      "booking => lemma: \"booking\"; porter: \"book\"\n"
     ]
    }
   ],
   "source": [
    "analyze('booking')"
   ]
  },
  {
   "cell_type": "markdown",
   "metadata": {},
   "source": [
    "Hypothesis: The lemmatizer should receive a higher precision for queries like `booking experience`, `booking page`, `increase booking ratio`, etc., as the porter stemmer should retrieve `book` matches not retrieved by the lemmatizer.\n"
   ]
  },
  {
   "cell_type": "markdown",
   "metadata": {},
   "source": [
    "### Step 3: Load the Dataset, the Index, and define the Retrieval Pipeline\n"
   ]
  },
  {
   "cell_type": "code",
   "execution_count": 10,
   "metadata": {},
   "outputs": [],
   "source": [
    "# The dataset: the union of the IR Anthology and the ACL Anthology\n",
    "# This line creates an IRDSDataset object and registers it under the name provided as an argument.\n",
    "pt_dataset = pt.get_dataset('irds:ir-lab-sose-2024/ir-acl-anthology-20240411-training')"
   ]
  },
  {
   "cell_type": "code",
   "execution_count": 15,
   "metadata": {},
   "outputs": [],
   "source": [
    "# A (pre-built) PyTerrier index with Porter Stemmer loaded from TIRA\n",
    "index_porter = tira.pt.index('ir-lab-sose-2024/tira-ir-starter/Index (tira-ir-starter-pyterrier)', pt_dataset)\n",
    "\n",
    "bm25_porter = pt.BatchRetrieve(index_porter, wmodel=\"BM25\") %3 >> pt.text.get_text(pt_dataset, \"text\")"
   ]
  },
  {
   "cell_type": "code",
   "execution_count": 12,
   "metadata": {},
   "outputs": [],
   "source": [
    "# A (pre-built) PyTerrier index with Stanford Lemmatizer loaded from TIRA\n",
    "index_lemmatizer = tira.pt.index('ir-lab-sose-2024/tira-ir-starter/Index (pyterrier-stanford-lemmatizer)', pt_dataset)\n",
    "\n",
    "bm25_lemmatizer = pt.BatchRetrieve(index_lemmatizer, wmodel=\"BM25\") %3 >> pt.text.get_text(pt_dataset, \"text\")"
   ]
  },
  {
   "cell_type": "code",
   "execution_count": 16,
   "metadata": {},
   "outputs": [
    {
     "data": {
      "text/html": [
       "<div>\n",
       "<style scoped>\n",
       "    .dataframe tbody tr th:only-of-type {\n",
       "        vertical-align: middle;\n",
       "    }\n",
       "\n",
       "    .dataframe tbody tr th {\n",
       "        vertical-align: top;\n",
       "    }\n",
       "\n",
       "    .dataframe thead th {\n",
       "        text-align: right;\n",
       "    }\n",
       "</style>\n",
       "<table border=\"1\" class=\"dataframe\">\n",
       "  <thead>\n",
       "    <tr style=\"text-align: right;\">\n",
       "      <th></th>\n",
       "      <th>qid</th>\n",
       "      <th>docid</th>\n",
       "      <th>docno</th>\n",
       "      <th>rank</th>\n",
       "      <th>score</th>\n",
       "      <th>query</th>\n",
       "      <th>text</th>\n",
       "    </tr>\n",
       "  </thead>\n",
       "  <tbody>\n",
       "    <tr>\n",
       "      <th>0</th>\n",
       "      <td>1</td>\n",
       "      <td>91210</td>\n",
       "      <td>2008.ecir_conference-2008.23</td>\n",
       "      <td>0</td>\n",
       "      <td>15.588513</td>\n",
       "      <td>booking experience</td>\n",
       "      <td>Book Search Experiments: Investigating IR Methods for the Indexing and Retrieval of Books</td>\n",
       "    </tr>\n",
       "    <tr>\n",
       "      <th>1</th>\n",
       "      <td>1</td>\n",
       "      <td>87217</td>\n",
       "      <td>2016.clef_conference-2016w.111</td>\n",
       "      <td>1</td>\n",
       "      <td>14.872849</td>\n",
       "      <td>booking experience</td>\n",
       "      <td>SBS 2016 : Combining Query Expansion Result and Books Information Score for Book Recommendation\\n\\n\\n In this paper, we present our contribution in Suggestion Track at the Social Book Search Lab. This track aims to develop test collections for evaluating ranking effectiveness of book retrieval and recommender systems. In our experiments, we combine the results of Sequential Dependence Model (SDM) and the books information that includes the price, the number Of P ages and the publication Date. We also expand topics' queries by the similar books information to improve the recommendation performance.</td>\n",
       "    </tr>\n",
       "    <tr>\n",
       "      <th>2</th>\n",
       "      <td>1</td>\n",
       "      <td>86121</td>\n",
       "      <td>2014.clef_conference-2014w.50</td>\n",
       "      <td>2</td>\n",
       "      <td>14.761358</td>\n",
       "      <td>booking experience</td>\n",
       "      <td>A Methodology for Social Book Search\\n\\n\\n A general overview of our methodology and results for the INEX 2014 Social Book Search Suggestion Task are presented in this paper. This is our first entry in the Social Book Search Track, which started in 2011. Our methodology and experiments are inspired by background research on the Social Book Search Track [5, 6, 7, 8, and 9]. We originally submitted six runs to the INEX 2014 competition and subsequently expanded our experiments as time allowed. Results, though preliminary, indicate some positive directions for future examination.</td>\n",
       "    </tr>\n",
       "  </tbody>\n",
       "</table>\n",
       "</div>"
      ],
      "text/plain": [
       "  qid  docid                           docno  rank      score  \\\n",
       "0   1  91210    2008.ecir_conference-2008.23     0  15.588513   \n",
       "1   1  87217  2016.clef_conference-2016w.111     1  14.872849   \n",
       "2   1  86121   2014.clef_conference-2014w.50     2  14.761358   \n",
       "\n",
       "                query  \\\n",
       "0  booking experience   \n",
       "1  booking experience   \n",
       "2  booking experience   \n",
       "\n",
       "                                                                                                                                                                                                                                                                                                                                                                                                                                                                                                                                                                                                                           text  \n",
       "0                                                                                                                                                                                                                                                                                                                                                                                                                                                                                                                                     Book Search Experiments: Investigating IR Methods for the Indexing and Retrieval of Books  \n",
       "1  SBS 2016 : Combining Query Expansion Result and Books Information Score for Book Recommendation\\n\\n\\n In this paper, we present our contribution in Suggestion Track at the Social Book Search Lab. This track aims to develop test collections for evaluating ranking effectiveness of book retrieval and recommender systems. In our experiments, we combine the results of Sequential Dependence Model (SDM) and the books information that includes the price, the number Of P ages and the publication Date. We also expand topics' queries by the similar books information to improve the recommendation performance.  \n",
       "2                       A Methodology for Social Book Search\\n\\n\\n A general overview of our methodology and results for the INEX 2014 Social Book Search Suggestion Task are presented in this paper. This is our first entry in the Social Book Search Track, which started in 2011. Our methodology and experiments are inspired by background research on the Social Book Search Track [5, 6, 7, 8, and 9]. We originally submitted six runs to the INEX 2014 competition and subsequently expanded our experiments as time allowed. Results, though preliminary, indicate some positive directions for future examination.  "
      ]
     },
     "execution_count": 16,
     "metadata": {},
     "output_type": "execute_result"
    }
   ],
   "source": [
    "bm25_porter.search('booking experience')"
   ]
  },
  {
   "cell_type": "code",
   "execution_count": 14,
   "metadata": {},
   "outputs": [
    {
     "data": {
      "text/html": [
       "<div>\n",
       "<style scoped>\n",
       "    .dataframe tbody tr th:only-of-type {\n",
       "        vertical-align: middle;\n",
       "    }\n",
       "\n",
       "    .dataframe tbody tr th {\n",
       "        vertical-align: top;\n",
       "    }\n",
       "\n",
       "    .dataframe thead th {\n",
       "        text-align: right;\n",
       "    }\n",
       "</style>\n",
       "<table border=\"1\" class=\"dataframe\">\n",
       "  <thead>\n",
       "    <tr style=\"text-align: right;\">\n",
       "      <th></th>\n",
       "      <th>qid</th>\n",
       "      <th>docid</th>\n",
       "      <th>docno</th>\n",
       "      <th>rank</th>\n",
       "      <th>score</th>\n",
       "      <th>query</th>\n",
       "      <th>text</th>\n",
       "    </tr>\n",
       "  </thead>\n",
       "  <tbody>\n",
       "    <tr>\n",
       "      <th>0</th>\n",
       "      <td>1</td>\n",
       "      <td>108896</td>\n",
       "      <td>2016.wwwconf_conference-2016c.14</td>\n",
       "      <td>0</td>\n",
       "      <td>25.016207</td>\n",
       "      <td>booking experience</td>\n",
       "      <td>Travel the World: Analyzing and Predicting Booking Behavior using E-mail Travel Receipts\\n\\n\\n ABSTRACTTourism industry has grown tremendously in the previous several decades. Despite its global impact, there still remain a number of open questions related to better understanding of tourists and their habits. In this work we analyze the largest data set of travel receipts considered thus far, and focus on exploring and modeling booking behavior of online customers. We extract useful, actionable insights into the booking behavior, and tackle the task of predicting the booking time. The presented results can be directly used to improve booking experience of customers and optimize targeting campaigns of travel operators.</td>\n",
       "    </tr>\n",
       "    <tr>\n",
       "      <th>1</th>\n",
       "      <td>1</td>\n",
       "      <td>96355</td>\n",
       "      <td>2010.cikm_conference-2010.293</td>\n",
       "      <td>1</td>\n",
       "      <td>24.641113</td>\n",
       "      <td>booking experience</td>\n",
       "      <td>Experiences with using SVM-based learning for multi-objective ranking\\n\\n\\n ABSTRACTWe describe our experiences in applying learning-to-rank techniques to improving the quality of search results of an online hotel reservation system. The search result quality factors we use are average booking position and distribution of margin in topranked results. (We expect that total revenue will increase with these factors.) Our application of the SVMRank technique improves booking position by up to 25% and margin distribution by up to 14%.</td>\n",
       "    </tr>\n",
       "    <tr>\n",
       "      <th>2</th>\n",
       "      <td>1</td>\n",
       "      <td>7548</td>\n",
       "      <td>2022.acl-long.73</td>\n",
       "      <td>2</td>\n",
       "      <td>18.385665</td>\n",
       "      <td>booking experience</td>\n",
       "      <td>Where to Go for the Holidays: Towards Mixed-Type Dialogs for Clarification of User Goals\\n\\n\\n Most dialog systems posit that users have figured out clear and specific goals before starting an interaction. For example, users have determined the departure, the destination, and the travel time for booking a flight. However, in many scenarios, limited by experience and knowledge, users may know what they need, but still struggle to figure out clear and specific goals by determining all the necessary slots. * Equal contribution. † Mainly responsible for dataset collection during his internship at Baidu.</td>\n",
       "    </tr>\n",
       "  </tbody>\n",
       "</table>\n",
       "</div>"
      ],
      "text/plain": [
       "  qid   docid                             docno  rank      score  \\\n",
       "0   1  108896  2016.wwwconf_conference-2016c.14     0  25.016207   \n",
       "1   1   96355     2010.cikm_conference-2010.293     1  24.641113   \n",
       "2   1    7548                  2022.acl-long.73     2  18.385665   \n",
       "\n",
       "                query  \\\n",
       "0  booking experience   \n",
       "1  booking experience   \n",
       "2  booking experience   \n",
       "\n",
       "                                                                                                                                                                                                                                                                                                                                                                                                                                                                                                                                                                                                                                                                                                                                                      text  \n",
       "0  Travel the World: Analyzing and Predicting Booking Behavior using E-mail Travel Receipts\\n\\n\\n ABSTRACTTourism industry has grown tremendously in the previous several decades. Despite its global impact, there still remain a number of open questions related to better understanding of tourists and their habits. In this work we analyze the largest data set of travel receipts considered thus far, and focus on exploring and modeling booking behavior of online customers. We extract useful, actionable insights into the booking behavior, and tackle the task of predicting the booking time. The presented results can be directly used to improve booking experience of customers and optimize targeting campaigns of travel operators.  \n",
       "1                                                                                                                                                                                                  Experiences with using SVM-based learning for multi-objective ranking\\n\\n\\n ABSTRACTWe describe our experiences in applying learning-to-rank techniques to improving the quality of search results of an online hotel reservation system. The search result quality factors we use are average booking position and distribution of margin in topranked results. (We expect that total revenue will increase with these factors.) Our application of the SVMRank technique improves booking position by up to 25% and margin distribution by up to 14%.  \n",
       "2                                                                                                                           Where to Go for the Holidays: Towards Mixed-Type Dialogs for Clarification of User Goals\\n\\n\\n Most dialog systems posit that users have figured out clear and specific goals before starting an interaction. For example, users have determined the departure, the destination, and the travel time for booking a flight. However, in many scenarios, limited by experience and knowledge, users may know what they need, but still struggle to figure out clear and specific goals by determining all the necessary slots. * Equal contribution. † Mainly responsible for dataset collection during his internship at Baidu.  "
      ]
     },
     "execution_count": 14,
     "metadata": {},
     "output_type": "execute_result"
    }
   ],
   "source": [
    "bm25_lemmatizer.search('booking experience')"
   ]
  }
 ],
 "metadata": {
  "kernelspec": {
   "display_name": "Python 3",
   "language": "python",
   "name": "python3"
  },
  "language_info": {
   "codemirror_mode": {
    "name": "ipython",
    "version": 3
   },
   "file_extension": ".py",
   "mimetype": "text/x-python",
   "name": "python",
   "nbconvert_exporter": "python",
   "pygments_lexer": "ipython3",
   "version": "3.10.12"
  }
 },
 "nbformat": 4,
 "nbformat_minor": 2
}
